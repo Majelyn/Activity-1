{
  "nbformat": 4,
  "nbformat_minor": 0,
  "metadata": {
    "colab": {
      "name": "Enerio- Python Fundamentals",
      "provenance": [],
      "collapsed_sections": [],
      "include_colab_link": true
    },
    "kernelspec": {
      "name": "python3",
      "display_name": "Python 3"
    }
  },
  "cells": [
    {
      "cell_type": "markdown",
      "metadata": {
        "id": "view-in-github",
        "colab_type": "text"
      },
      "source": [
        "<a href=\"https://colab.research.google.com/github/Majelyn/Activity-1/blob/main/Enerio_Python_Fundamentals.ipynb\" target=\"_parent\"><img src=\"https://colab.research.google.com/assets/colab-badge.svg\" alt=\"Open In Colab\"/></a>"
      ]
    },
    {
      "cell_type": "markdown",
      "metadata": {
        "id": "QnAdk8hy7Bl9"
      },
      "source": [
        "# Welcome to Python Fundamentals\r\n",
        "by  M. M. Enerio ©  2021\r\n",
        "<br> In this module, we are going to establish or review our skills in Python programming. In this notebook we are going to cover:\r\n",
        "* Variables and Data Types \r\n",
        "* Operations\r\n",
        "* Input and Output Operations\r\n",
        "* Logic Control\r\n",
        "* Iterables\r\n",
        "* Functions\r\n",
        "* Disucssions"
      ]
    },
    {
      "cell_type": "markdown",
      "metadata": {
        "id": "T6ABRAjTT1Ta"
      },
      "source": [
        "## Variable and Data Types"
      ]
    },
    {
      "cell_type": "markdown",
      "metadata": {
        "id": "PgLCoyqCoNlE"
      },
      "source": [
        "Variables and Data Types where Variables are nothing but reserved memory locations to store values[1] and for data types, every value in Python has a datatype. Since everything is an object in Python programming, data types are actually classes and variables are instance (object) of these classes.[2]"
      ]
    },
    {
      "cell_type": "code",
      "metadata": {
        "id": "G8JI3DTZ616F"
      },
      "source": [
        "x = 1\r\n",
        "a,b = 0, -1"
      ],
      "execution_count": null,
      "outputs": []
    },
    {
      "cell_type": "code",
      "metadata": {
        "id": "QLT9rz2dUJ95"
      },
      "source": [
        "type(x)"
      ],
      "execution_count": null,
      "outputs": []
    },
    {
      "cell_type": "code",
      "metadata": {
        "id": "TR_rvX4SUWqx"
      },
      "source": [
        "y = 1.0\r\n",
        "type(y)"
      ],
      "execution_count": null,
      "outputs": []
    },
    {
      "cell_type": "code",
      "metadata": {
        "id": "FqV2upOiXcnC"
      },
      "source": [
        "x = float(x)\r\n",
        "type(x)"
      ],
      "execution_count": null,
      "outputs": []
    },
    {
      "cell_type": "code",
      "metadata": {
        "id": "2tuyqwmyXiDb"
      },
      "source": [
        "s,t,u = \"0\", '1', 'one'\r\n",
        "type(s)"
      ],
      "execution_count": null,
      "outputs": []
    },
    {
      "cell_type": "code",
      "metadata": {
        "id": "6JwWqHx3XlmB"
      },
      "source": [
        "s_int = int(s)\r\n",
        "s_int"
      ],
      "execution_count": null,
      "outputs": []
    },
    {
      "cell_type": "markdown",
      "metadata": {
        "id": "9RgPwQR4YVG5"
      },
      "source": [
        "## Operations"
      ]
    },
    {
      "cell_type": "markdown",
      "metadata": {
        "id": "IWHoqmD0o78B"
      },
      "source": [
        "Input and output operations where a Program needs to interact with the user to accomplish the desired task; this is done using Input-Output facility.[3]"
      ]
    },
    {
      "cell_type": "markdown",
      "metadata": {
        "id": "mvoS_zuJYbsg"
      },
      "source": [
        "### Arithmetic"
      ]
    },
    {
      "cell_type": "markdown",
      "metadata": {
        "id": "fpqA5iVRzI62"
      },
      "source": [
        "There are seven different arithmetic operators that are used in python like addition, subtraction, etc.[3]"
      ]
    },
    {
      "cell_type": "code",
      "metadata": {
        "id": "DSjUO0KcYoE-"
      },
      "source": [
        "a,b,c,d = 2.0, -0.5, 0, -32"
      ],
      "execution_count": null,
      "outputs": []
    },
    {
      "cell_type": "code",
      "metadata": {
        "id": "o_kk0XFzYX9o"
      },
      "source": [
        "### Addition\r\n",
        "S = a+b\r\n",
        "S"
      ],
      "execution_count": null,
      "outputs": []
    },
    {
      "cell_type": "code",
      "metadata": {
        "id": "TC5oFq3MY4jk"
      },
      "source": [
        "### Subtraction\r\n",
        "D = b-d\r\n",
        "D"
      ],
      "execution_count": null,
      "outputs": []
    },
    {
      "cell_type": "code",
      "metadata": {
        "id": "j0bGayj5Y9wr"
      },
      "source": [
        "### Multiplication\r\n",
        "P = a*d\r\n",
        "P"
      ],
      "execution_count": null,
      "outputs": []
    },
    {
      "cell_type": "code",
      "metadata": {
        "id": "FnMWmq5LZLEU"
      },
      "source": [
        "### Division\r\n",
        "Q = c/a\r\n",
        "Q"
      ],
      "execution_count": null,
      "outputs": []
    },
    {
      "cell_type": "code",
      "metadata": {
        "id": "cQeVcFIWZd8o"
      },
      "source": [
        "### Floor Division\r\n",
        "Fq = a//b\r\n",
        "Fq"
      ],
      "execution_count": null,
      "outputs": []
    },
    {
      "cell_type": "code",
      "metadata": {
        "id": "YLaUu6APZSzR"
      },
      "source": [
        "### Exponentiation\r\n",
        "E = a**b\r\n",
        "E"
      ],
      "execution_count": null,
      "outputs": []
    },
    {
      "cell_type": "code",
      "metadata": {
        "id": "uf_0sf4CZ1JT"
      },
      "source": [
        "### Modulo\r\n",
        "mod = d%a\r\n",
        "mod"
      ],
      "execution_count": null,
      "outputs": []
    },
    {
      "cell_type": "markdown",
      "metadata": {
        "id": "afyWvb1ZaJJ6"
      },
      "source": [
        "### Assignment Operations"
      ]
    },
    {
      "cell_type": "markdown",
      "metadata": {
        "id": "pRb8rx1yzfE-"
      },
      "source": [
        "Use to store a value in a object specified by the left operand.[3]\r\n"
      ]
    },
    {
      "cell_type": "code",
      "metadata": {
        "id": "rMZ8r4WhanaE"
      },
      "source": [
        "G, H, J, K = 0, 100, 2, 2"
      ],
      "execution_count": null,
      "outputs": []
    },
    {
      "cell_type": "code",
      "metadata": {
        "id": "IX0EbJ8RaMih"
      },
      "source": [
        "G += a\r\n",
        "G"
      ],
      "execution_count": null,
      "outputs": []
    },
    {
      "cell_type": "code",
      "metadata": {
        "id": "aIj4hA-JaRA0"
      },
      "source": [
        "H -= d"
      ],
      "execution_count": null,
      "outputs": []
    },
    {
      "cell_type": "code",
      "metadata": {
        "id": "vuuDbAbNaXgS"
      },
      "source": [
        "J *= 2\r\n",
        "J"
      ],
      "execution_count": null,
      "outputs": []
    },
    {
      "cell_type": "code",
      "metadata": {
        "id": "sGVXGduUaeAj"
      },
      "source": [
        "K **= 2\r\n",
        "K"
      ],
      "execution_count": null,
      "outputs": []
    },
    {
      "cell_type": "markdown",
      "metadata": {
        "id": "UGXuqhVNbW7R"
      },
      "source": [
        "### Comparators"
      ]
    },
    {
      "cell_type": "markdown",
      "metadata": {
        "id": "xf2W0KZ-pIU9"
      },
      "source": [
        "Where if the values of two operands are equal, then the condition becomes true. Where if the value of operands are not equal it will become false. Also known as python comparison operators.[4]"
      ]
    },
    {
      "cell_type": "code",
      "metadata": {
        "id": "Oj9xLaEaYeuY"
      },
      "source": [
        "res_1, res_2, res_3 = 1, 2.0, \"1\"\r\n",
        "true_val = 1.0"
      ],
      "execution_count": null,
      "outputs": []
    },
    {
      "cell_type": "code",
      "metadata": {
        "id": "GEXm6RSsbA8Q"
      },
      "source": [
        "## Equality\r\n",
        "res_1 == true_val"
      ],
      "execution_count": null,
      "outputs": []
    },
    {
      "cell_type": "code",
      "metadata": {
        "id": "SdHk_b58bZhD"
      },
      "source": [
        "## Non-equality\r\n",
        "res_2 != true_val"
      ],
      "execution_count": null,
      "outputs": []
    },
    {
      "cell_type": "code",
      "metadata": {
        "id": "EnA4q50JbQB5"
      },
      "source": [
        "## Inequality\r\n",
        "t1 = res_1 > res_2\r\n",
        "t2 = res_1 < res_2/2\r\n",
        "t3 = res_1 >= res_2/2\r\n",
        "t4 = res_1 <= res_2  \r\n",
        "t1"
      ],
      "execution_count": null,
      "outputs": []
    },
    {
      "cell_type": "markdown",
      "metadata": {
        "id": "9WkfdvbfcC1Y"
      },
      "source": [
        "### Logical"
      ]
    },
    {
      "cell_type": "markdown",
      "metadata": {
        "id": "Xu6HvaIbq9HV"
      },
      "source": [
        "Use to symbolize the compounding element and compare three values. Where returning either true or false, and, or, not.[4]"
      ]
    },
    {
      "cell_type": "markdown",
      "metadata": {
        "id": "ZGQ57A5sqrMf"
      },
      "source": [
        ""
      ]
    },
    {
      "cell_type": "code",
      "metadata": {
        "id": "cYVG6YeNb-Gz"
      },
      "source": [
        "res_1 == true_val"
      ],
      "execution_count": null,
      "outputs": []
    },
    {
      "cell_type": "code",
      "metadata": {
        "id": "rLe6hpkHcN-z"
      },
      "source": [
        "res_1 is true_val"
      ],
      "execution_count": null,
      "outputs": []
    },
    {
      "cell_type": "code",
      "metadata": {
        "id": "tr5qxHQmcO-C"
      },
      "source": [
        "res_1 is not true_val"
      ],
      "execution_count": null,
      "outputs": []
    },
    {
      "cell_type": "code",
      "metadata": {
        "id": "3GU72N-Gcslz"
      },
      "source": [
        "p, q = True, False\r\n",
        "conj = p and q\r\n",
        "conj"
      ],
      "execution_count": null,
      "outputs": []
    },
    {
      "cell_type": "code",
      "metadata": {
        "id": "ihMxcT6KcvQj"
      },
      "source": [
        "p, q = True, False\r\n",
        "disj = p or q\r\n",
        "disj"
      ],
      "execution_count": null,
      "outputs": []
    },
    {
      "cell_type": "code",
      "metadata": {
        "id": "T-QfmeYgcyGQ"
      },
      "source": [
        "p, q = True, False\r\n",
        "nand = not(p and q)\r\n",
        "nand"
      ],
      "execution_count": null,
      "outputs": []
    },
    {
      "cell_type": "code",
      "metadata": {
        "id": "2HL7SlVbc10k"
      },
      "source": [
        "p, q = True, False\r\n",
        "xor = (not p and q) or (p and not q)\r\n",
        "xor"
      ],
      "execution_count": null,
      "outputs": []
    },
    {
      "cell_type": "markdown",
      "metadata": {
        "id": "AQx4DKafYffJ"
      },
      "source": [
        "### I/O"
      ]
    },
    {
      "cell_type": "markdown",
      "metadata": {
        "id": "n8-yS7R7rZ66"
      },
      "source": [
        "Used to read or modify a certain file accordingly, where the use of print or the variable itself it will automatically run the program.[4]"
      ]
    },
    {
      "cell_type": "code",
      "metadata": {
        "id": "Q-DVERG5Yk9w"
      },
      "source": [
        "print(\"Hello World\")"
      ],
      "execution_count": null,
      "outputs": []
    },
    {
      "cell_type": "code",
      "metadata": {
        "id": "fS5wN51beSVF"
      },
      "source": [
        "cnt = 1"
      ],
      "execution_count": null,
      "outputs": []
    },
    {
      "cell_type": "code",
      "metadata": {
        "id": "hKNaUXmdZdUo"
      },
      "source": [
        "string = \"Hello World\"\r\n",
        "print(string, \", Current run count is:\", cnt)\r\n",
        "cnt += 1"
      ],
      "execution_count": null,
      "outputs": []
    },
    {
      "cell_type": "code",
      "metadata": {
        "id": "15_WdzEZcOVX"
      },
      "source": [
        "print(f\"{string}, Current count is: {cnt}\")"
      ],
      "execution_count": null,
      "outputs": []
    },
    {
      "cell_type": "code",
      "metadata": {
        "id": "5m9XtFOPcOXo"
      },
      "source": [
        "sem_grade = 82.243564657461234\r\n",
        "name = \"\"\r\n",
        "print(\"Hello {}, your semestral grade is: {}\".format(name, sem_grade))"
      ],
      "execution_count": null,
      "outputs": []
    },
    {
      "cell_type": "code",
      "metadata": {
        "id": "SMJx6bTnfdgZ"
      },
      "source": [
        "w_pg, w_mg, w_fg = 0.3, 0.3, 0.4\r\n",
        "print(\"The weights of your semestral grades are:\\\r\n",
        "\\n\\t{:.2%} for Prelims\\\r\n",
        "\\n\\t{:.2%} for Midterms, and\\\r\n",
        "\\n\\t{:.2%} for Finals.\".format(w_pg, w_mg, w_fg))"
      ],
      "execution_count": null,
      "outputs": []
    },
    {
      "cell_type": "code",
      "metadata": {
        "id": "Ob2I_zR3jAcZ"
      },
      "source": [
        "x = input(\"enter a number: \")\r\n",
        "x"
      ],
      "execution_count": null,
      "outputs": []
    },
    {
      "cell_type": "code",
      "metadata": {
        "id": "T7ODFfcMh9Pg"
      },
      "source": [
        "name = input(\"Kimi no nawa: \")\r\n",
        "pg = input(\"Enter prelim grade: \")\r\n",
        "mg = input(\"Enter midterm grade: \")\r\n",
        "fg = input(\"Enter finals grade: \")\r\n",
        "sem_grade = None\r\n",
        "print(\"Hello {}, your semestral grade is: {}\".format(name, sem_grade))"
      ],
      "execution_count": null,
      "outputs": []
    },
    {
      "cell_type": "markdown",
      "metadata": {
        "id": "i0g3EothhvqL"
      },
      "source": [
        "# Looping Statements"
      ]
    },
    {
      "cell_type": "markdown",
      "metadata": {
        "id": "X8ekA_bAsRt-"
      },
      "source": [
        "Use to execute one or more statement repeatedly serveral number of times until given condition is satisfies, and when condition is not met the looping of the program will be executed.[4]"
      ]
    },
    {
      "cell_type": "markdown",
      "metadata": {
        "id": "j4w90VAIjcFJ"
      },
      "source": [
        "## While"
      ]
    },
    {
      "cell_type": "markdown",
      "metadata": {
        "id": "pPsX5vkItG_f"
      },
      "source": [
        "Use for repeatedly executes a traget statement as long as a given condition is true[4]"
      ]
    },
    {
      "cell_type": "code",
      "metadata": {
        "id": "4vtSrBPThlse",
        "colab": {
          "base_uri": "https://localhost:8080/"
        },
        "outputId": "3361dd35-1557-4218-c685-72e1ff6a33bd"
      },
      "source": [
        "## while loops\r\n",
        "i, j = 0, 10\r\n",
        "while(i<=j):\r\n",
        "    print(f\"{i}\\t|\\t{j}\")\r\n",
        "    i+=1"
      ],
      "execution_count": null,
      "outputs": [
        {
          "output_type": "stream",
          "text": [
            "0\t|\t10\n",
            "1\t|\t10\n",
            "2\t|\t10\n",
            "3\t|\t10\n",
            "4\t|\t10\n",
            "5\t|\t10\n",
            "6\t|\t10\n",
            "7\t|\t10\n",
            "8\t|\t10\n",
            "9\t|\t10\n",
            "10\t|\t10\n"
          ],
          "name": "stdout"
        }
      ]
    },
    {
      "cell_type": "markdown",
      "metadata": {
        "id": "Qz6AH6jRjfUg"
      },
      "source": [
        "## For"
      ]
    },
    {
      "cell_type": "markdown",
      "metadata": {
        "id": "fZbCSznztXIC"
      },
      "source": [
        "Use to iterates ove the members of a sequence in order, where it executes the block each time.[4]"
      ]
    },
    {
      "cell_type": "code",
      "metadata": {
        "id": "q0DUwfRkjZY7",
        "colab": {
          "base_uri": "https://localhost:8080/"
        },
        "outputId": "b93508df-35e1-4abc-dccd-1063d3ea7c49"
      },
      "source": [
        "# for(int i=0; i<10; i++){\r\n",
        "# printf(i)\r\n",
        "# }\r\n",
        "\r\n",
        "i=0\r\n",
        "for i in range(10):\r\n",
        "    print(i)"
      ],
      "execution_count": null,
      "outputs": [
        {
          "output_type": "stream",
          "text": [
            "0\n",
            "1\n",
            "2\n",
            "3\n",
            "4\n",
            "5\n",
            "6\n",
            "7\n",
            "8\n",
            "9\n"
          ],
          "name": "stdout"
        }
      ]
    },
    {
      "cell_type": "code",
      "metadata": {
        "id": "zaM--lUhjiUg",
        "colab": {
          "base_uri": "https://localhost:8080/"
        },
        "outputId": "76b02edf-3685-4e85-d775-dd65319691d6"
      },
      "source": [
        "playlist = [\"gone\",\"lolz\",\"lmao\"]\r\n",
        "print('Now Playing:\\n')\r\n",
        "for song in playlist:\r\n",
        "    print(song)"
      ],
      "execution_count": null,
      "outputs": [
        {
          "output_type": "stream",
          "text": [
            "Now Playing:\n",
            "\n",
            "gone\n",
            "lolz\n",
            "lmao\n"
          ],
          "name": "stdout"
        }
      ]
    },
    {
      "cell_type": "markdown",
      "metadata": {
        "id": "N6jTqTZojnSg"
      },
      "source": [
        "# Flow Control"
      ]
    },
    {
      "cell_type": "markdown",
      "metadata": {
        "id": "LoqSKMPMtovH"
      },
      "source": [
        "It is the order in which the program's code executes. It is regulated by Conditional statements, loops, and function calls.[5]"
      ]
    },
    {
      "cell_type": "markdown",
      "metadata": {
        "id": "uhnsV2CijrWQ"
      },
      "source": [
        "## Condition Statements"
      ]
    },
    {
      "cell_type": "markdown",
      "metadata": {
        "id": "PaKrL6G9xiBh"
      },
      "source": [
        "It runs a command block only when certain conditions are met. The most commonly used conditional statement is the if statement.[6]"
      ]
    },
    {
      "cell_type": "code",
      "metadata": {
        "id": "seJplrJojmTg",
        "colab": {
          "base_uri": "https://localhost:8080/"
        },
        "outputId": "de3a35c6-df76-497b-95eb-ea0918a464c0"
      },
      "source": [
        "numeral1, numeral2 = 12, 12\r\n",
        "if(numeral1 == numeral2):\r\n",
        "    print(\"Yey\")\r\n",
        "elif(numeral1>numeral2):\r\n",
        "    print(\"Hoho\")\r\n",
        "else:\r\n",
        "    print(\"Aww\")\r\n",
        "print(\"Hip hip\")"
      ],
      "execution_count": null,
      "outputs": [
        {
          "output_type": "stream",
          "text": [
            "Yey\n",
            "Hip hip\n"
          ],
          "name": "stdout"
        }
      ]
    },
    {
      "cell_type": "markdown",
      "metadata": {
        "id": "tlnG1OKilNLo"
      },
      "source": [
        "# Functions"
      ]
    },
    {
      "cell_type": "markdown",
      "metadata": {
        "id": "xlU2YAsZupQ6"
      },
      "source": [
        "A function is a block of organized, reusable code that is used to perform a single, related action. As you already know, Python gives you many built-in functions like print(), etc. but you can also create your own functions.[7]"
      ]
    },
    {
      "cell_type": "code",
      "metadata": {
        "id": "1iMUEipnlUKY"
      },
      "source": [
        "# void DeleteUser(int userid){\r\n",
        "#     delete(userid);\r\n",
        "# }\r\n",
        "\r\n",
        "def delete_user (userid):\r\n",
        "    print(\"Successfully deleted user: {}\".format(userid))\r\n",
        "    \r\n",
        "def delete_all_users ():\r\n",
        "    print(\"Successfully deleted all users\")"
      ],
      "execution_count": null,
      "outputs": []
    },
    {
      "cell_type": "code",
      "metadata": {
        "id": "v_TkrftylUEA"
      },
      "source": [
        "userid = 0\r\n",
        "delete_user(0)\r\n",
        "delete_all_users()"
      ],
      "execution_count": null,
      "outputs": []
    },
    {
      "cell_type": "code",
      "metadata": {
        "id": "M0ffjw31lT8Y"
      },
      "source": [
        "def add(addend1, addend2):\r\n",
        "    return addend1 + addend2\r\n",
        "\r\n",
        "def power_of_base2(exponent):\r\n",
        "    return 2**exponent"
      ],
      "execution_count": null,
      "outputs": []
    },
    {
      "cell_type": "markdown",
      "metadata": {
        "id": "2_tDT01oFEGQ"
      },
      "source": [
        "### Lambda Functions"
      ]
    },
    {
      "cell_type": "markdown",
      "metadata": {
        "id": "B6fwnoyfvGgH"
      },
      "source": [
        "A lambda function is a small anonymous function. A lambda function can take any number of arguments, but can only have one expression.[8]"
      ]
    },
    {
      "cell_type": "code",
      "metadata": {
        "id": "tmmBNW9pFg-4"
      },
      "source": [
        "x = 4"
      ],
      "execution_count": null,
      "outputs": []
    },
    {
      "cell_type": "code",
      "metadata": {
        "id": "_9KYzCrIFCpI",
        "colab": {
          "base_uri": "https://localhost:8080/"
        },
        "outputId": "15b05cde-295a-4b56-bf88-0e392d323c27"
      },
      "source": [
        "def f(x):\r\n",
        "  return 2*(x*x)-1\r\n",
        "f(x)"
      ],
      "execution_count": null,
      "outputs": [
        {
          "output_type": "execute_result",
          "data": {
            "text/plain": [
              "31"
            ]
          },
          "metadata": {
            "tags": []
          },
          "execution_count": 6
        }
      ]
    },
    {
      "cell_type": "code",
      "metadata": {
        "id": "a2uwKwqFFafn",
        "colab": {
          "base_uri": "https://localhost:8080/"
        },
        "outputId": "49582696-417c-40ad-b706-d992b3084a87"
      },
      "source": [
        "g = lambda x: 2*(x*x)-1b\r\n",
        "print(g(x))"
      ],
      "execution_count": null,
      "outputs": [
        {
          "output_type": "stream",
          "text": [
            "31\n"
          ],
          "name": "stdout"
        }
      ]
    },
    {
      "cell_type": "code",
      "metadata": {
        "id": "Rjm9RFrGlMgA",
        "colab": {
          "base_uri": "https://localhost:8080/"
        },
        "outputId": "530b63c1-608e-442b-d48a-439ef7f425f9"
      },
      "source": [
        "'''\r\n",
        "Create a grade calculator that computes for the semestral grade of a course.\r\n",
        "Students could type their names, the name of the course, then their prelim,\r\n",
        "midterm, and final grade.\r\n",
        "The program should print the semestral grade in 2 decimal points and should\r\n",
        "display the following emojis depending on the situation:\r\n",
        "happy - when grade is greater than 70.00\r\n",
        "laughing - when grade is exactly 70.00\r\n",
        "sad - when grade is below 70.00\r\n",
        "'''\r\n",
        "happy, lol, sad = \"\\U0001F600\",\"\\U0001F923\",\"\\U0001F619\"\r\n",
        "print(happy)\r\n",
        "print(lol)\r\n",
        "print(sad)"
      ],
      "execution_count": null,
      "outputs": [
        {
          "output_type": "stream",
          "text": [
            "😀\n",
            "🤣\n",
            "😙\n"
          ],
          "name": "stdout"
        }
      ]
    },
    {
      "cell_type": "code",
      "metadata": {
        "colab": {
          "base_uri": "https://localhost:8080/"
        },
        "id": "9yNHMPfFqHfi",
        "outputId": "c019c8ba-dad6-4e8f-ac5a-f9fa052bcd86"
      },
      "source": [
        "name = input(\"Name: \")\r\n",
        "course = input(\"Course: \")\r\n",
        "pg = float(input(\"Enter prelim grade: \"))\r\n",
        "mg = float(input(\"Enter midterm grade: \"))\r\n",
        "fg = float(input(\"Enter finals grade: \"))\r\n",
        "\r\n",
        "w_pg, w_mg, w_fg = 0.3, 0.3, 0.4\r\n",
        "sem_grade= pg*w_pg + mg*w_mg + fg*w_fg\r\n",
        "round(sem_grade,2)\r\n",
        "happy, lol, sad = \"\\U0001F600\",\"\\U0001F923\",\"\\U0001F619\"\r\n",
        "\r\n",
        "if(sem_grade>70):\r\n",
        "    print(\"Hello {}, from {}, your semestral grade is: {} {}\".format(name,course, sem_grade,happy))\r\n",
        "elif(sem_grade==70):\r\n",
        "    print(\"Hello {}, from {}, your semestral grade is: {} {}\".format(name,course, sem_grade,lol))\r\n",
        "elif(sem_grade<70):\r\n",
        "    print(\"Hello {}, from {}, your semestral grade is: {} {}\".format(name,course, sem_grade,sad))"
      ],
      "execution_count": null,
      "outputs": [
        {
          "output_type": "stream",
          "text": [
            "Name: maj\n",
            "Course: cpe\n",
            "Enter prelim grade: 88\n",
            "Enter midterm grade: 90\n",
            "Enter finals grade: 84\n",
            "Hello maj, from cpe, your semestral grade is: 87.0 😀\n"
          ],
          "name": "stdout"
        }
      ]
    },
    {
      "cell_type": "markdown",
      "metadata": {
        "id": "wOiXaujFqcTg"
      },
      "source": [
        "### References\r\n",
        "[1] Tutorials point(2021). [***Tutorialspoint : Variable Types***](https://www.tutorialspoint.com/python/python_variable_types.htm#:~:text=Variables%20are%20nothing%20but%20reserved,stored%20in%20the%20reserved%20memory.)\r\n",
        "<br>[2] Programiz(2021). [***Programiz : Data Types***](https://www.programiz.com/python-programming/variables-datatypes#:~:text=use%20in%20Python.-,Data%20types%20in%20Python,various%20data%20types%20in%20Python.)\r\n",
        "<br>[3] Include Help(2020). [***Includehelp : Input and Output Operations with Examples in Python***](https://www.includehelp.com/python/input-and-output-operations-with-examples.aspx#:~:text=A%20Program%20needs%20to%20interact,(%20)%20function%20available%20for%20Input.)\r\n",
        "<br>[4] Tutorials point(2020). [***Wikibooks : Python - Basic Operators***](https://www.tutorialspoint.com/python/python_basic_operators.htm)\r\n",
        "<br>[5] Oreilly(2020). [***Control Flow Statements : Python in a Nutshell***](https://www.oreilly.com/library/view/python-in-a/0596001886/ch04s09.html#:~:text=A%20program%27s%20control%20flow%20is,%2C%20loops%2C%20and%20function%20calls.&text=Raising%20and%20handling%20exceptions%20also,are%20covered%20in%20Chapter%206)\r\n",
        "<br>[6] Quizlet(2020). [***Quizlet:Tutorial 12, Session 12.3 Quick Check, Working with Arrays, Loops, and Conditional Statements: Conditional Statements***](https://quizlet.com/106811428/tutorial-12-session-123-quick-check-working-with-arrays-loops-and-conditional-statements-conditional-statements-flash-cards/)\r\n",
        "<br>[7] Tutorials point(2021). [***Tutorialspoint : Python - Functions***](https://www.tutorialspoint.com/python/python_functions.htm)\r\n",
        "<br>[8] w3schools(2021). [***W3SCHOOLS : Python Lambda***](https://www.w3schools.com/python/python_lambda.asp#:~:text=A%20lambda%20function%20is%20a,can%20only%20have%20one%20expression.)\r\n"
      ]
    }
  ]
}